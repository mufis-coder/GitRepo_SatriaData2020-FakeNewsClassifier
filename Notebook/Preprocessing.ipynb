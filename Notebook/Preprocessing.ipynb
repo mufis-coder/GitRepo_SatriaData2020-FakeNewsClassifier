{
  "nbformat": 4,
  "nbformat_minor": 0,
  "metadata": {
    "kernelspec": {
      "display_name": "Python 3",
      "language": "python",
      "name": "python3"
    },
    "language_info": {
      "codemirror_mode": {
        "name": "ipython",
        "version": 3
      },
      "file_extension": ".py",
      "mimetype": "text/x-python",
      "name": "python",
      "nbconvert_exporter": "python",
      "pygments_lexer": "ipython3",
      "version": "3.7.6"
    },
    "colab": {
      "name": "Salinan Preprocessing.ipynb",
      "provenance": [],
      "toc_visible": true
    }
  },
  "cells": [
    {
      "cell_type": "markdown",
      "metadata": {
        "id": "zOdBfsgodiLw"
      },
      "source": [
        "# **Import Library**"
      ]
    },
    {
      "cell_type": "code",
      "metadata": {
        "id": "2r0NZ9y6_2V0",
        "outputId": "672ececf-9048-4307-92a4-c883566c6f50",
        "colab": {
          "base_uri": "https://localhost:8080/",
          "height": 34
        }
      },
      "source": [
        "from google.colab import drive\n",
        " \n",
        "drive.mount('/content/gdrive')"
      ],
      "execution_count": null,
      "outputs": [
        {
          "output_type": "stream",
          "text": [
            "Mounted at /content/gdrive\n"
          ],
          "name": "stdout"
        }
      ]
    },
    {
      "cell_type": "code",
      "metadata": {
        "id": "Z_915wqwYWvU"
      },
      "source": [
        "import pandas as pd\n",
        "import numpy as np\n",
        "import itertools\n",
        "from sklearn.feature_extraction.text import CountVectorizer, TfidfVectorizer, HashingVectorizer\n",
        "from sklearn import metrics\n",
        "import matplotlib.pyplot as plt"
      ],
      "execution_count": null,
      "outputs": []
    },
    {
      "cell_type": "markdown",
      "metadata": {
        "id": "HJRWgEwIdn-3"
      },
      "source": [
        "# **EDA**"
      ]
    },
    {
      "cell_type": "code",
      "metadata": {
        "id": "27k0VIpbYWvl",
        "outputId": "1b7530c5-ac49-496d-ac47-a46eba3a26a9",
        "colab": {
          "base_uri": "https://localhost:8080/",
          "height": 359
        }
      },
      "source": [
        "df = pd.read_excel('/content/gdrive/My Drive/BDC SD/Salinan Data Latih BDC.xlsx')\n",
        "df_judul = df['judul']\n",
        "df_narasi = df['narasi']\n",
        "df_label = df['label']\n",
        "df.head(10)"
      ],
      "execution_count": null,
      "outputs": [
        {
          "output_type": "execute_result",
          "data": {
            "text/html": [
              "<div>\n",
              "<style scoped>\n",
              "    .dataframe tbody tr th:only-of-type {\n",
              "        vertical-align: middle;\n",
              "    }\n",
              "\n",
              "    .dataframe tbody tr th {\n",
              "        vertical-align: top;\n",
              "    }\n",
              "\n",
              "    .dataframe thead th {\n",
              "        text-align: right;\n",
              "    }\n",
              "</style>\n",
              "<table border=\"1\" class=\"dataframe\">\n",
              "  <thead>\n",
              "    <tr style=\"text-align: right;\">\n",
              "      <th></th>\n",
              "      <th>ID</th>\n",
              "      <th>label</th>\n",
              "      <th>tanggal</th>\n",
              "      <th>judul</th>\n",
              "      <th>narasi</th>\n",
              "      <th>nama file gambar</th>\n",
              "    </tr>\n",
              "  </thead>\n",
              "  <tbody>\n",
              "    <tr>\n",
              "      <th>0</th>\n",
              "      <td>71</td>\n",
              "      <td>1</td>\n",
              "      <td>2020-08-17 00:00:00</td>\n",
              "      <td>Pemakaian Masker Menyebabkan Penyakit Legionna...</td>\n",
              "      <td>A caller to a radio talk show recently shared ...</td>\n",
              "      <td>71.jpg</td>\n",
              "    </tr>\n",
              "    <tr>\n",
              "      <th>1</th>\n",
              "      <td>461</td>\n",
              "      <td>1</td>\n",
              "      <td>2020-07-17 00:00:00</td>\n",
              "      <td>Instruksi Gubernur Jateng tentang penilangan  ...</td>\n",
              "      <td>Yth.Seluruh Anggota Grup Sesuai Instruksi Gube...</td>\n",
              "      <td>461.png</td>\n",
              "    </tr>\n",
              "    <tr>\n",
              "      <th>2</th>\n",
              "      <td>495</td>\n",
              "      <td>1</td>\n",
              "      <td>2020-07-13 00:00:00</td>\n",
              "      <td>Foto Jim Rohn: Jokowi adalah presiden terbaik ...</td>\n",
              "      <td>Jokowi adalah presiden terbaik dlm sejarah ban...</td>\n",
              "      <td>495.png</td>\n",
              "    </tr>\n",
              "    <tr>\n",
              "      <th>3</th>\n",
              "      <td>550</td>\n",
              "      <td>1</td>\n",
              "      <td>2020-07-08 00:00:00</td>\n",
              "      <td>ini bukan politik, tapi kenyataan Pak Jokowi b...</td>\n",
              "      <td>Maaf Mas2 dan Mbak2, ini bukan politik, tapi k...</td>\n",
              "      <td>550.png</td>\n",
              "    </tr>\n",
              "    <tr>\n",
              "      <th>4</th>\n",
              "      <td>681</td>\n",
              "      <td>1</td>\n",
              "      <td>2020-06-24 00:00:00</td>\n",
              "      <td>Foto Kadrun kalo lihat foto ini panas dingin</td>\n",
              "      <td>Kadrun kalo lihat foto ini panas dingin . .</td>\n",
              "      <td>681.jpg</td>\n",
              "    </tr>\n",
              "    <tr>\n",
              "      <th>5</th>\n",
              "      <td>736</td>\n",
              "      <td>1</td>\n",
              "      <td>2020-06-17 00:00:00</td>\n",
              "      <td>event promo smartphone JNE 2020 spesial di bul...</td>\n",
              "      <td>selamat siang teman teman fb ku semuanya🤩,cuma...</td>\n",
              "      <td>736.png</td>\n",
              "    </tr>\n",
              "    <tr>\n",
              "      <th>6</th>\n",
              "      <td>1161</td>\n",
              "      <td>1</td>\n",
              "      <td>2020-05-05 00:00:00</td>\n",
              "      <td>MEREKA SUDAH MEMPERSIAPKAN DIRI DENGAN BAIK UN...</td>\n",
              "      <td>LIHATLAH MEREKA SUDAH MEMPERSIAPKAN DIRI DENGA...</td>\n",
              "      <td>1161.png</td>\n",
              "    </tr>\n",
              "    <tr>\n",
              "      <th>7</th>\n",
              "      <td>1597</td>\n",
              "      <td>1</td>\n",
              "      <td>2020-03-24 00:00:00</td>\n",
              "      <td>Foto Presiden Italia menangis karena tak cukup...</td>\n",
              "      <td>Italia punya fasilitas perawatan kesehatan ter...</td>\n",
              "      <td>1597.png</td>\n",
              "    </tr>\n",
              "    <tr>\n",
              "      <th>8</th>\n",
              "      <td>2098</td>\n",
              "      <td>1</td>\n",
              "      <td>2020-01-09 00:00:00</td>\n",
              "      <td>Kapolres Timor Tengah Utara , Nusa Tenggara Ti...</td>\n",
              "      <td>Polisi goblok. Bukanya cpet” d tolongin malah ...</td>\n",
              "      <td>2098.jpg</td>\n",
              "    </tr>\n",
              "    <tr>\n",
              "      <th>9</th>\n",
              "      <td>2226</td>\n",
              "      <td>1</td>\n",
              "      <td>2019-12-24 00:00:00</td>\n",
              "      <td>Video Polisi china telah menganiaya wanita uig...</td>\n",
              "      <td>Polisi china telah menganiaya wanita uighur le...</td>\n",
              "      <td>2226.png</td>\n",
              "    </tr>\n",
              "  </tbody>\n",
              "</table>\n",
              "</div>"
            ],
            "text/plain": [
              "     ID  ...  nama file gambar\n",
              "0    71  ...            71.jpg\n",
              "1   461  ...           461.png\n",
              "2   495  ...           495.png\n",
              "3   550  ...           550.png\n",
              "4   681  ...           681.jpg\n",
              "5   736  ...           736.png\n",
              "6  1161  ...          1161.png\n",
              "7  1597  ...          1597.png\n",
              "8  2098  ...          2098.jpg\n",
              "9  2226  ...          2226.png\n",
              "\n",
              "[10 rows x 6 columns]"
            ]
          },
          "metadata": {
            "tags": []
          },
          "execution_count": 24
        }
      ]
    },
    {
      "cell_type": "code",
      "metadata": {
        "id": "Mg4fGqErYWvx",
        "outputId": "28f8365f-cc4e-47c2-bb08-38cf406aad5f",
        "colab": {
          "base_uri": "https://localhost:8080/",
          "height": 359
        }
      },
      "source": [
        "df.shape\n",
        "df = df.drop(['tanggal', 'nama file gambar'], axis=1)\n",
        "df.head(10)"
      ],
      "execution_count": null,
      "outputs": [
        {
          "output_type": "execute_result",
          "data": {
            "text/html": [
              "<div>\n",
              "<style scoped>\n",
              "    .dataframe tbody tr th:only-of-type {\n",
              "        vertical-align: middle;\n",
              "    }\n",
              "\n",
              "    .dataframe tbody tr th {\n",
              "        vertical-align: top;\n",
              "    }\n",
              "\n",
              "    .dataframe thead th {\n",
              "        text-align: right;\n",
              "    }\n",
              "</style>\n",
              "<table border=\"1\" class=\"dataframe\">\n",
              "  <thead>\n",
              "    <tr style=\"text-align: right;\">\n",
              "      <th></th>\n",
              "      <th>ID</th>\n",
              "      <th>label</th>\n",
              "      <th>judul</th>\n",
              "      <th>narasi</th>\n",
              "    </tr>\n",
              "  </thead>\n",
              "  <tbody>\n",
              "    <tr>\n",
              "      <th>0</th>\n",
              "      <td>71</td>\n",
              "      <td>1</td>\n",
              "      <td>Pemakaian Masker Menyebabkan Penyakit Legionna...</td>\n",
              "      <td>A caller to a radio talk show recently shared ...</td>\n",
              "    </tr>\n",
              "    <tr>\n",
              "      <th>1</th>\n",
              "      <td>461</td>\n",
              "      <td>1</td>\n",
              "      <td>Instruksi Gubernur Jateng tentang penilangan  ...</td>\n",
              "      <td>Yth.Seluruh Anggota Grup Sesuai Instruksi Gube...</td>\n",
              "    </tr>\n",
              "    <tr>\n",
              "      <th>2</th>\n",
              "      <td>495</td>\n",
              "      <td>1</td>\n",
              "      <td>Foto Jim Rohn: Jokowi adalah presiden terbaik ...</td>\n",
              "      <td>Jokowi adalah presiden terbaik dlm sejarah ban...</td>\n",
              "    </tr>\n",
              "    <tr>\n",
              "      <th>3</th>\n",
              "      <td>550</td>\n",
              "      <td>1</td>\n",
              "      <td>ini bukan politik, tapi kenyataan Pak Jokowi b...</td>\n",
              "      <td>Maaf Mas2 dan Mbak2, ini bukan politik, tapi k...</td>\n",
              "    </tr>\n",
              "    <tr>\n",
              "      <th>4</th>\n",
              "      <td>681</td>\n",
              "      <td>1</td>\n",
              "      <td>Foto Kadrun kalo lihat foto ini panas dingin</td>\n",
              "      <td>Kadrun kalo lihat foto ini panas dingin . .</td>\n",
              "    </tr>\n",
              "    <tr>\n",
              "      <th>5</th>\n",
              "      <td>736</td>\n",
              "      <td>1</td>\n",
              "      <td>event promo smartphone JNE 2020 spesial di bul...</td>\n",
              "      <td>selamat siang teman teman fb ku semuanya🤩,cuma...</td>\n",
              "    </tr>\n",
              "    <tr>\n",
              "      <th>6</th>\n",
              "      <td>1161</td>\n",
              "      <td>1</td>\n",
              "      <td>MEREKA SUDAH MEMPERSIAPKAN DIRI DENGAN BAIK UN...</td>\n",
              "      <td>LIHATLAH MEREKA SUDAH MEMPERSIAPKAN DIRI DENGA...</td>\n",
              "    </tr>\n",
              "    <tr>\n",
              "      <th>7</th>\n",
              "      <td>1597</td>\n",
              "      <td>1</td>\n",
              "      <td>Foto Presiden Italia menangis karena tak cukup...</td>\n",
              "      <td>Italia punya fasilitas perawatan kesehatan ter...</td>\n",
              "    </tr>\n",
              "    <tr>\n",
              "      <th>8</th>\n",
              "      <td>2098</td>\n",
              "      <td>1</td>\n",
              "      <td>Kapolres Timor Tengah Utara , Nusa Tenggara Ti...</td>\n",
              "      <td>Polisi goblok. Bukanya cpet” d tolongin malah ...</td>\n",
              "    </tr>\n",
              "    <tr>\n",
              "      <th>9</th>\n",
              "      <td>2226</td>\n",
              "      <td>1</td>\n",
              "      <td>Video Polisi china telah menganiaya wanita uig...</td>\n",
              "      <td>Polisi china telah menganiaya wanita uighur le...</td>\n",
              "    </tr>\n",
              "  </tbody>\n",
              "</table>\n",
              "</div>"
            ],
            "text/plain": [
              "     ID  ...                                             narasi\n",
              "0    71  ...  A caller to a radio talk show recently shared ...\n",
              "1   461  ...  Yth.Seluruh Anggota Grup Sesuai Instruksi Gube...\n",
              "2   495  ...  Jokowi adalah presiden terbaik dlm sejarah ban...\n",
              "3   550  ...  Maaf Mas2 dan Mbak2, ini bukan politik, tapi k...\n",
              "4   681  ...        Kadrun kalo lihat foto ini panas dingin . .\n",
              "5   736  ...  selamat siang teman teman fb ku semuanya🤩,cuma...\n",
              "6  1161  ...  LIHATLAH MEREKA SUDAH MEMPERSIAPKAN DIRI DENGA...\n",
              "7  1597  ...  Italia punya fasilitas perawatan kesehatan ter...\n",
              "8  2098  ...  Polisi goblok. Bukanya cpet” d tolongin malah ...\n",
              "9  2226  ...  Polisi china telah menganiaya wanita uighur le...\n",
              "\n",
              "[10 rows x 4 columns]"
            ]
          },
          "metadata": {
            "tags": []
          },
          "execution_count": 14
        }
      ]
    },
    {
      "cell_type": "code",
      "metadata": {
        "id": "Shyw-LX7YWv5",
        "outputId": "25b3a743-016b-4127-f359-05ec8f9e6de6",
        "colab": {
          "base_uri": "https://localhost:8080/",
          "height": 204
        }
      },
      "source": [
        "df.info()"
      ],
      "execution_count": null,
      "outputs": [
        {
          "output_type": "stream",
          "text": [
            "<class 'pandas.core.frame.DataFrame'>\n",
            "RangeIndex: 4231 entries, 0 to 4230\n",
            "Data columns (total 4 columns):\n",
            " #   Column  Non-Null Count  Dtype \n",
            "---  ------  --------------  ----- \n",
            " 0   ID      4231 non-null   int64 \n",
            " 1   label   4231 non-null   int64 \n",
            " 2   judul   4231 non-null   object\n",
            " 3   narasi  4231 non-null   object\n",
            "dtypes: int64(2), object(2)\n",
            "memory usage: 132.3+ KB\n"
          ],
          "name": "stdout"
        }
      ]
    },
    {
      "cell_type": "code",
      "metadata": {
        "id": "BG3FM7U8YWwG",
        "outputId": "06715370-325a-40b4-912d-7323263b24f6",
        "colab": {
          "base_uri": "https://localhost:8080/",
          "height": 68
        }
      },
      "source": [
        "df['label'].value_counts()"
      ],
      "execution_count": null,
      "outputs": [
        {
          "output_type": "execute_result",
          "data": {
            "text/plain": [
              "1    3465\n",
              "0     766\n",
              "Name: label, dtype: int64"
            ]
          },
          "metadata": {
            "tags": []
          },
          "execution_count": 16
        }
      ]
    },
    {
      "cell_type": "code",
      "metadata": {
        "id": "K8n1OwapYWwR",
        "outputId": "f8a73695-ee7b-4f9c-aff9-e06c55b8f232",
        "colab": {
          "base_uri": "https://localhost:8080/",
          "height": 204
        }
      },
      "source": [
        "df['total']=df['judul'] + ' ' + df['narasi']\n",
        "df.head()"
      ],
      "execution_count": null,
      "outputs": [
        {
          "output_type": "execute_result",
          "data": {
            "text/html": [
              "<div>\n",
              "<style scoped>\n",
              "    .dataframe tbody tr th:only-of-type {\n",
              "        vertical-align: middle;\n",
              "    }\n",
              "\n",
              "    .dataframe tbody tr th {\n",
              "        vertical-align: top;\n",
              "    }\n",
              "\n",
              "    .dataframe thead th {\n",
              "        text-align: right;\n",
              "    }\n",
              "</style>\n",
              "<table border=\"1\" class=\"dataframe\">\n",
              "  <thead>\n",
              "    <tr style=\"text-align: right;\">\n",
              "      <th></th>\n",
              "      <th>ID</th>\n",
              "      <th>label</th>\n",
              "      <th>judul</th>\n",
              "      <th>narasi</th>\n",
              "      <th>total</th>\n",
              "    </tr>\n",
              "  </thead>\n",
              "  <tbody>\n",
              "    <tr>\n",
              "      <th>0</th>\n",
              "      <td>71</td>\n",
              "      <td>1</td>\n",
              "      <td>Pemakaian Masker Menyebabkan Penyakit Legionna...</td>\n",
              "      <td>A caller to a radio talk show recently shared ...</td>\n",
              "      <td>Pemakaian Masker Menyebabkan Penyakit Legionna...</td>\n",
              "    </tr>\n",
              "    <tr>\n",
              "      <th>1</th>\n",
              "      <td>461</td>\n",
              "      <td>1</td>\n",
              "      <td>Instruksi Gubernur Jateng tentang penilangan  ...</td>\n",
              "      <td>Yth.Seluruh Anggota Grup Sesuai Instruksi Gube...</td>\n",
              "      <td>Instruksi Gubernur Jateng tentang penilangan  ...</td>\n",
              "    </tr>\n",
              "    <tr>\n",
              "      <th>2</th>\n",
              "      <td>495</td>\n",
              "      <td>1</td>\n",
              "      <td>Foto Jim Rohn: Jokowi adalah presiden terbaik ...</td>\n",
              "      <td>Jokowi adalah presiden terbaik dlm sejarah ban...</td>\n",
              "      <td>Foto Jim Rohn: Jokowi adalah presiden terbaik ...</td>\n",
              "    </tr>\n",
              "    <tr>\n",
              "      <th>3</th>\n",
              "      <td>550</td>\n",
              "      <td>1</td>\n",
              "      <td>ini bukan politik, tapi kenyataan Pak Jokowi b...</td>\n",
              "      <td>Maaf Mas2 dan Mbak2, ini bukan politik, tapi k...</td>\n",
              "      <td>ini bukan politik, tapi kenyataan Pak Jokowi b...</td>\n",
              "    </tr>\n",
              "    <tr>\n",
              "      <th>4</th>\n",
              "      <td>681</td>\n",
              "      <td>1</td>\n",
              "      <td>Foto Kadrun kalo lihat foto ini panas dingin</td>\n",
              "      <td>Kadrun kalo lihat foto ini panas dingin . .</td>\n",
              "      <td>Foto Kadrun kalo lihat foto ini panas dingin K...</td>\n",
              "    </tr>\n",
              "  </tbody>\n",
              "</table>\n",
              "</div>"
            ],
            "text/plain": [
              "    ID  ...                                              total\n",
              "0   71  ...  Pemakaian Masker Menyebabkan Penyakit Legionna...\n",
              "1  461  ...  Instruksi Gubernur Jateng tentang penilangan  ...\n",
              "2  495  ...  Foto Jim Rohn: Jokowi adalah presiden terbaik ...\n",
              "3  550  ...  ini bukan politik, tapi kenyataan Pak Jokowi b...\n",
              "4  681  ...  Foto Kadrun kalo lihat foto ini panas dingin K...\n",
              "\n",
              "[5 rows x 5 columns]"
            ]
          },
          "metadata": {
            "tags": []
          },
          "execution_count": 21
        }
      ]
    },
    {
      "cell_type": "code",
      "metadata": {
        "id": "qId8Pf4yYWwe",
        "outputId": "74a877f2-673f-4ee3-855f-f88d6cd167e8",
        "colab": {
          "base_uri": "https://localhost:8080/",
          "height": 204
        }
      },
      "source": [
        "df_t = pd.read_excel('/content/gdrive/My Drive/BDC SD/Document from Zahra')\n",
        "df_t_judul = df_t['judul']\n",
        "df_t_narasi = df_t['narasi']\n",
        "df_t_label = df_t['label']\n",
        "df_t.head()"
      ],
      "execution_count": null,
      "outputs": [
        {
          "output_type": "execute_result",
          "data": {
            "text/html": [
              "<div>\n",
              "<style scoped>\n",
              "    .dataframe tbody tr th:only-of-type {\n",
              "        vertical-align: middle;\n",
              "    }\n",
              "\n",
              "    .dataframe tbody tr th {\n",
              "        vertical-align: top;\n",
              "    }\n",
              "\n",
              "    .dataframe thead th {\n",
              "        text-align: right;\n",
              "    }\n",
              "</style>\n",
              "<table border=\"1\" class=\"dataframe\">\n",
              "  <thead>\n",
              "    <tr style=\"text-align: right;\">\n",
              "      <th></th>\n",
              "      <th>ID</th>\n",
              "      <th>tanggal</th>\n",
              "      <th>judul</th>\n",
              "      <th>narasi</th>\n",
              "      <th>nama file gambar</th>\n",
              "      <th>label</th>\n",
              "    </tr>\n",
              "  </thead>\n",
              "  <tbody>\n",
              "    <tr>\n",
              "      <th>0</th>\n",
              "      <td>238057</td>\n",
              "      <td>2020-07-13 00:00:00</td>\n",
              "      <td>Narasi Tito Karnavian Berideologi Komunis Kare...</td>\n",
              "      <td>TITO KARNIVAN ITU BERIDIOLOGI KOMUNIS DIA BISA...</td>\n",
              "      <td>238057.jpg</td>\n",
              "      <td>1</td>\n",
              "    </tr>\n",
              "    <tr>\n",
              "      <th>1</th>\n",
              "      <td>238158</td>\n",
              "      <td>2020-07-06 00:00:00</td>\n",
              "      <td>Anies: Seberat beratnya Pekerjaan Akan terasa ...</td>\n",
              "      <td>Seberat beratnya Pekerjaan Akan terasa ringan ...</td>\n",
              "      <td>238158.jpg</td>\n",
              "      <td>1</td>\n",
              "    </tr>\n",
              "    <tr>\n",
              "      <th>2</th>\n",
              "      <td>238865</td>\n",
              "      <td>2020-04-22 00:00:00</td>\n",
              "      <td>Hindu di india Melemparkan Patung Buatan Merek...</td>\n",
              "      <td>Hindu di india melemparkan patung buatan merek...</td>\n",
              "      <td>238865.jpg</td>\n",
              "      <td>1</td>\n",
              "    </tr>\n",
              "    <tr>\n",
              "      <th>3</th>\n",
              "      <td>248298</td>\n",
              "      <td>2019-10-22 00:00:00</td>\n",
              "      <td>RSCM Praktekkan Penyedotan Plug  Vena/Saluran ...</td>\n",
              "      <td>Mulai Hari ini di RSCM mulai diPraktekkan Peny...</td>\n",
              "      <td>248298.jpg</td>\n",
              "      <td>1</td>\n",
              "    </tr>\n",
              "    <tr>\n",
              "      <th>4</th>\n",
              "      <td>255176</td>\n",
              "      <td>2020-05-01 00:00:00</td>\n",
              "      <td>Permohonan Kelonggaran Angsuran ke OJK</td>\n",
              "      <td>Untuk sekedar info, Bagi anda yg punya ansuran...</td>\n",
              "      <td>255176.jpg</td>\n",
              "      <td>1</td>\n",
              "    </tr>\n",
              "  </tbody>\n",
              "</table>\n",
              "</div>"
            ],
            "text/plain": [
              "       ID              tanggal  ... nama file gambar label\n",
              "0  238057  2020-07-13 00:00:00  ...       238057.jpg     1\n",
              "1  238158  2020-07-06 00:00:00  ...       238158.jpg     1\n",
              "2  238865  2020-04-22 00:00:00  ...       238865.jpg     1\n",
              "3  248298  2019-10-22 00:00:00  ...       248298.jpg     1\n",
              "4  255176  2020-05-01 00:00:00  ...       255176.jpg     1\n",
              "\n",
              "[5 rows x 6 columns]"
            ]
          },
          "metadata": {
            "tags": []
          },
          "execution_count": 23
        }
      ]
    },
    {
      "cell_type": "code",
      "metadata": {
        "id": "_tvfJT52YWwo",
        "outputId": "8b18467e-ef46-417c-f2fa-d111f66b8b23",
        "colab": {
          "base_uri": "https://localhost:8080/",
          "height": 204
        }
      },
      "source": [
        "df_t['total']=df_t['judul'] + ' ' + df_t['narasi']\n",
        "df_t = df_t.drop(['tanggal', 'nama file gambar'], axis=1)\n",
        "df_t.head()"
      ],
      "execution_count": null,
      "outputs": [
        {
          "output_type": "execute_result",
          "data": {
            "text/html": [
              "<div>\n",
              "<style scoped>\n",
              "    .dataframe tbody tr th:only-of-type {\n",
              "        vertical-align: middle;\n",
              "    }\n",
              "\n",
              "    .dataframe tbody tr th {\n",
              "        vertical-align: top;\n",
              "    }\n",
              "\n",
              "    .dataframe thead th {\n",
              "        text-align: right;\n",
              "    }\n",
              "</style>\n",
              "<table border=\"1\" class=\"dataframe\">\n",
              "  <thead>\n",
              "    <tr style=\"text-align: right;\">\n",
              "      <th></th>\n",
              "      <th>ID</th>\n",
              "      <th>judul</th>\n",
              "      <th>narasi</th>\n",
              "      <th>label</th>\n",
              "      <th>total</th>\n",
              "    </tr>\n",
              "  </thead>\n",
              "  <tbody>\n",
              "    <tr>\n",
              "      <th>0</th>\n",
              "      <td>238057</td>\n",
              "      <td>Narasi Tito Karnavian Berideologi Komunis Kare...</td>\n",
              "      <td>TITO KARNIVAN ITU BERIDIOLOGI KOMUNIS DIA BISA...</td>\n",
              "      <td>1</td>\n",
              "      <td>Narasi Tito Karnavian Berideologi Komunis Kare...</td>\n",
              "    </tr>\n",
              "    <tr>\n",
              "      <th>1</th>\n",
              "      <td>238158</td>\n",
              "      <td>Anies: Seberat beratnya Pekerjaan Akan terasa ...</td>\n",
              "      <td>Seberat beratnya Pekerjaan Akan terasa ringan ...</td>\n",
              "      <td>1</td>\n",
              "      <td>Anies: Seberat beratnya Pekerjaan Akan terasa ...</td>\n",
              "    </tr>\n",
              "    <tr>\n",
              "      <th>2</th>\n",
              "      <td>238865</td>\n",
              "      <td>Hindu di india Melemparkan Patung Buatan Merek...</td>\n",
              "      <td>Hindu di india melemparkan patung buatan merek...</td>\n",
              "      <td>1</td>\n",
              "      <td>Hindu di india Melemparkan Patung Buatan Merek...</td>\n",
              "    </tr>\n",
              "    <tr>\n",
              "      <th>3</th>\n",
              "      <td>248298</td>\n",
              "      <td>RSCM Praktekkan Penyedotan Plug  Vena/Saluran ...</td>\n",
              "      <td>Mulai Hari ini di RSCM mulai diPraktekkan Peny...</td>\n",
              "      <td>1</td>\n",
              "      <td>RSCM Praktekkan Penyedotan Plug  Vena/Saluran ...</td>\n",
              "    </tr>\n",
              "    <tr>\n",
              "      <th>4</th>\n",
              "      <td>255176</td>\n",
              "      <td>Permohonan Kelonggaran Angsuran ke OJK</td>\n",
              "      <td>Untuk sekedar info, Bagi anda yg punya ansuran...</td>\n",
              "      <td>1</td>\n",
              "      <td>Permohonan Kelonggaran Angsuran ke OJK Untuk s...</td>\n",
              "    </tr>\n",
              "  </tbody>\n",
              "</table>\n",
              "</div>"
            ],
            "text/plain": [
              "       ID  ...                                              total\n",
              "0  238057  ...  Narasi Tito Karnavian Berideologi Komunis Kare...\n",
              "1  238158  ...  Anies: Seberat beratnya Pekerjaan Akan terasa ...\n",
              "2  238865  ...  Hindu di india Melemparkan Patung Buatan Merek...\n",
              "3  248298  ...  RSCM Praktekkan Penyedotan Plug  Vena/Saluran ...\n",
              "4  255176  ...  Permohonan Kelonggaran Angsuran ke OJK Untuk s...\n",
              "\n",
              "[5 rows x 5 columns]"
            ]
          },
          "metadata": {
            "tags": []
          },
          "execution_count": 24
        }
      ]
    },
    {
      "cell_type": "code",
      "metadata": {
        "id": "ZmKkHgaAP08j",
        "outputId": "bca24662-441f-43c9-d636-86b8c0c92dc1",
        "colab": {
          "base_uri": "https://localhost:8080/",
          "height": 204
        }
      },
      "source": [
        "df.head()"
      ],
      "execution_count": null,
      "outputs": [
        {
          "output_type": "execute_result",
          "data": {
            "text/html": [
              "<div>\n",
              "<style scoped>\n",
              "    .dataframe tbody tr th:only-of-type {\n",
              "        vertical-align: middle;\n",
              "    }\n",
              "\n",
              "    .dataframe tbody tr th {\n",
              "        vertical-align: top;\n",
              "    }\n",
              "\n",
              "    .dataframe thead th {\n",
              "        text-align: right;\n",
              "    }\n",
              "</style>\n",
              "<table border=\"1\" class=\"dataframe\">\n",
              "  <thead>\n",
              "    <tr style=\"text-align: right;\">\n",
              "      <th></th>\n",
              "      <th>ID</th>\n",
              "      <th>label</th>\n",
              "      <th>judul</th>\n",
              "      <th>narasi</th>\n",
              "      <th>total</th>\n",
              "    </tr>\n",
              "  </thead>\n",
              "  <tbody>\n",
              "    <tr>\n",
              "      <th>0</th>\n",
              "      <td>71</td>\n",
              "      <td>1</td>\n",
              "      <td>Pemakaian Masker Menyebabkan Penyakit Legionna...</td>\n",
              "      <td>A caller to a radio talk show recently shared ...</td>\n",
              "      <td>Pemakaian Masker Menyebabkan Penyakit Legionna...</td>\n",
              "    </tr>\n",
              "    <tr>\n",
              "      <th>1</th>\n",
              "      <td>461</td>\n",
              "      <td>1</td>\n",
              "      <td>Instruksi Gubernur Jateng tentang penilangan  ...</td>\n",
              "      <td>Yth.Seluruh Anggota Grup Sesuai Instruksi Gube...</td>\n",
              "      <td>Instruksi Gubernur Jateng tentang penilangan  ...</td>\n",
              "    </tr>\n",
              "    <tr>\n",
              "      <th>2</th>\n",
              "      <td>495</td>\n",
              "      <td>1</td>\n",
              "      <td>Foto Jim Rohn: Jokowi adalah presiden terbaik ...</td>\n",
              "      <td>Jokowi adalah presiden terbaik dlm sejarah ban...</td>\n",
              "      <td>Foto Jim Rohn: Jokowi adalah presiden terbaik ...</td>\n",
              "    </tr>\n",
              "    <tr>\n",
              "      <th>3</th>\n",
              "      <td>550</td>\n",
              "      <td>1</td>\n",
              "      <td>ini bukan politik, tapi kenyataan Pak Jokowi b...</td>\n",
              "      <td>Maaf Mas2 dan Mbak2, ini bukan politik, tapi k...</td>\n",
              "      <td>ini bukan politik, tapi kenyataan Pak Jokowi b...</td>\n",
              "    </tr>\n",
              "    <tr>\n",
              "      <th>4</th>\n",
              "      <td>681</td>\n",
              "      <td>1</td>\n",
              "      <td>Foto Kadrun kalo lihat foto ini panas dingin</td>\n",
              "      <td>Kadrun kalo lihat foto ini panas dingin . .</td>\n",
              "      <td>Foto Kadrun kalo lihat foto ini panas dingin K...</td>\n",
              "    </tr>\n",
              "  </tbody>\n",
              "</table>\n",
              "</div>"
            ],
            "text/plain": [
              "    ID  ...                                              total\n",
              "0   71  ...  Pemakaian Masker Menyebabkan Penyakit Legionna...\n",
              "1  461  ...  Instruksi Gubernur Jateng tentang penilangan  ...\n",
              "2  495  ...  Foto Jim Rohn: Jokowi adalah presiden terbaik ...\n",
              "3  550  ...  ini bukan politik, tapi kenyataan Pak Jokowi b...\n",
              "4  681  ...  Foto Kadrun kalo lihat foto ini panas dingin K...\n",
              "\n",
              "[5 rows x 5 columns]"
            ]
          },
          "metadata": {
            "tags": []
          },
          "execution_count": 26
        }
      ]
    },
    {
      "cell_type": "markdown",
      "metadata": {
        "id": "6RMy-jS6dtJP"
      },
      "source": [
        "# **Data Preprocessing**"
      ]
    },
    {
      "cell_type": "code",
      "metadata": {
        "id": "MupeymT5YWwx",
        "outputId": "14c66ceb-3729-45c3-ac6f-ed3d4eb5cf11",
        "colab": {
          "base_uri": "https://localhost:8080/",
          "height": 85
        }
      },
      "source": [
        "import nltk\n",
        "import re\n",
        "nltk.download('stopwords')\n",
        "nltk.download('punkt')\n",
        "from nltk.corpus import stopwords\n",
        "from nltk import sent_tokenize, word_tokenize"
      ],
      "execution_count": null,
      "outputs": [
        {
          "output_type": "stream",
          "text": [
            "[nltk_data] Downloading package stopwords to /root/nltk_data...\n",
            "[nltk_data]   Unzipping corpora/stopwords.zip.\n",
            "[nltk_data] Downloading package punkt to /root/nltk_data...\n",
            "[nltk_data]   Unzipping tokenizers/punkt.zip.\n"
          ],
          "name": "stdout"
        }
      ]
    },
    {
      "cell_type": "markdown",
      "metadata": {
        "id": "Jgxwi8PTd4AD"
      },
      "source": [
        "1. Stopwords Indonesia"
      ]
    },
    {
      "cell_type": "code",
      "metadata": {
        "id": "P46lc3zaYWw3"
      },
      "source": [
        "from nltk.corpus import stopwords\n",
        "# ----------------------- get stopword from NLTK stopword -------------------------------\n",
        "# get stopword indonesia\n",
        "list_stopwords = stopwords.words('indonesian')\n",
        "stop_words = list_stopwords\n",
        "\n",
        "list_stopwords.extend([\"yg\", \"dg\", \"rt\", \"dgn\", \"ny\", \"d\", 'klo', \n",
        "                       'kalo', 'amp', 'biar', 'bikin', 'bilang', \n",
        "                       'gak', 'ga', 'krn', 'nya', 'nih', 'sih', \n",
        "                       'si', 'tau', 'tdk', 'tuh', 'utk', 'ya', \n",
        "                       'jd', 'jgn', 'sdh', 'aja', 'n', 't', \n",
        "                       'nyg', 'hehe', 'pen', 'u', 'nan', 'loh', 'rt',\n",
        "                       '&amp', 'yah', 'lg', 'deh', 'toh', 'piye', 'prettt', 'tak', 'sblm', 'dlm', 'sekedar',\n",
        "                       'ni', 'pa', 'si', 'keh', 'yaaaa', 'tsb', 'dll', 'gw', 'eh', 'iki', 'piye', 'trus',\n",
        "                       'hayoo', 'smg', 'ybs', 'jdi', 'tlong', 'pngn', 'bg', 'gk', 'ad', 'ttg', 'hayo', 'lo', 'ente',\n",
        "                       'gini', 'kyk', 'bhw', 'untk', 'jg', 'hehe', 'lgsg', 'udah', 'an', 'yáng', 'ìnì', 'o'])"
      ],
      "execution_count": null,
      "outputs": []
    },
    {
      "cell_type": "code",
      "metadata": {
        "id": "XShxnXerLera",
        "outputId": "82b7ea9f-19e5-46dd-f516-747c0992163c",
        "colab": {
          "base_uri": "https://localhost:8080/",
          "height": 204
        }
      },
      "source": [
        "df.head()"
      ],
      "execution_count": null,
      "outputs": [
        {
          "output_type": "execute_result",
          "data": {
            "text/html": [
              "<div>\n",
              "<style scoped>\n",
              "    .dataframe tbody tr th:only-of-type {\n",
              "        vertical-align: middle;\n",
              "    }\n",
              "\n",
              "    .dataframe tbody tr th {\n",
              "        vertical-align: top;\n",
              "    }\n",
              "\n",
              "    .dataframe thead th {\n",
              "        text-align: right;\n",
              "    }\n",
              "</style>\n",
              "<table border=\"1\" class=\"dataframe\">\n",
              "  <thead>\n",
              "    <tr style=\"text-align: right;\">\n",
              "      <th></th>\n",
              "      <th>ID</th>\n",
              "      <th>label</th>\n",
              "      <th>judul</th>\n",
              "      <th>narasi</th>\n",
              "      <th>total</th>\n",
              "    </tr>\n",
              "  </thead>\n",
              "  <tbody>\n",
              "    <tr>\n",
              "      <th>0</th>\n",
              "      <td>71</td>\n",
              "      <td>1</td>\n",
              "      <td>Pemakaian Masker Menyebabkan Penyakit Legionna...</td>\n",
              "      <td>A caller to a radio talk show recently shared ...</td>\n",
              "      <td>Pemakaian Masker Menyebabkan Penyakit Legionna...</td>\n",
              "    </tr>\n",
              "    <tr>\n",
              "      <th>1</th>\n",
              "      <td>461</td>\n",
              "      <td>1</td>\n",
              "      <td>Instruksi Gubernur Jateng tentang penilangan  ...</td>\n",
              "      <td>Yth.Seluruh Anggota Grup Sesuai Instruksi Gube...</td>\n",
              "      <td>Instruksi Gubernur Jateng tentang penilangan  ...</td>\n",
              "    </tr>\n",
              "    <tr>\n",
              "      <th>2</th>\n",
              "      <td>495</td>\n",
              "      <td>1</td>\n",
              "      <td>Foto Jim Rohn: Jokowi adalah presiden terbaik ...</td>\n",
              "      <td>Jokowi adalah presiden terbaik dlm sejarah ban...</td>\n",
              "      <td>Foto Jim Rohn: Jokowi adalah presiden terbaik ...</td>\n",
              "    </tr>\n",
              "    <tr>\n",
              "      <th>3</th>\n",
              "      <td>550</td>\n",
              "      <td>1</td>\n",
              "      <td>ini bukan politik, tapi kenyataan Pak Jokowi b...</td>\n",
              "      <td>Maaf Mas2 dan Mbak2, ini bukan politik, tapi k...</td>\n",
              "      <td>ini bukan politik, tapi kenyataan Pak Jokowi b...</td>\n",
              "    </tr>\n",
              "    <tr>\n",
              "      <th>4</th>\n",
              "      <td>681</td>\n",
              "      <td>1</td>\n",
              "      <td>Foto Kadrun kalo lihat foto ini panas dingin</td>\n",
              "      <td>Kadrun kalo lihat foto ini panas dingin . .</td>\n",
              "      <td>Foto Kadrun kalo lihat foto ini panas dingin K...</td>\n",
              "    </tr>\n",
              "  </tbody>\n",
              "</table>\n",
              "</div>"
            ],
            "text/plain": [
              "    ID  ...                                              total\n",
              "0   71  ...  Pemakaian Masker Menyebabkan Penyakit Legionna...\n",
              "1  461  ...  Instruksi Gubernur Jateng tentang penilangan  ...\n",
              "2  495  ...  Foto Jim Rohn: Jokowi adalah presiden terbaik ...\n",
              "3  550  ...  ini bukan politik, tapi kenyataan Pak Jokowi b...\n",
              "4  681  ...  Foto Kadrun kalo lihat foto ini panas dingin K...\n",
              "\n",
              "[5 rows x 5 columns]"
            ]
          },
          "metadata": {
            "tags": []
          },
          "execution_count": 29
        }
      ]
    },
    {
      "cell_type": "markdown",
      "metadata": {
        "id": "xVUk4oN0d9Pw"
      },
      "source": [
        "2. preprocessing data training dan testing"
      ]
    },
    {
      "cell_type": "code",
      "metadata": {
        "id": "OvwOEHPUYWxF"
      },
      "source": [
        "#preprocessing data training\n",
        "for index, row in df.iterrows():\n",
        "    filter_sentence = ''\n",
        "    filter_sentence2 = ''\n",
        "    sentence = row['total']\n",
        "    # Cleaning dengan regular expression\n",
        "    sentence = re.sub(r'[^\\w\\s]', '', sentence)\n",
        "    # Tokenization\n",
        "    words = nltk.word_tokenize(sentence)\n",
        "    # Menghilangkan stopwords\n",
        "    words = [w for w in words if not w in stop_words]\n",
        "    # Lower case\n",
        "    for words in words:\n",
        "      if words.lower() in model.wv.vocab:\n",
        "        filter_sentence = filter_sentence  + ' ' + correction(words.lower())\n",
        "      else:\n",
        "        \n",
        "        filter_sentence2 = filter_sentence2  + ' ' + words.lower()\n",
        "    \n",
        "    if filter_sentence != '':\n",
        "      df.loc[index, 'total'] = filter_sentence\n",
        "    else:\n",
        "      df.loc[index, 'total'] = filter_sentence2\n",
        "\n",
        "#preprocessing data testing    \n",
        "for index, row in df_t.iterrows():\n",
        "    filter_sentence3 = ''\n",
        "    filter_sentence4 = ''\n",
        "    sentence = row['total']\n",
        "    # Cleaning dengan regular expression\n",
        "    sentence = re.sub(r'[^\\w\\s]', '', sentence)\n",
        "    # Tokenization\n",
        "    words = nltk.word_tokenize(sentence)\n",
        "    # Menghilangkan stopwords\n",
        "    words = [w for w in words if not w in stop_words]\n",
        "    # Lower case\n",
        "    for words in words:\n",
        "      if words.lower() in model.wv.vocab:\n",
        "        filter_sentence3 = filter_sentence3  + ' ' + correction(words.lower())\n",
        "      else:\n",
        "        filter_sentence4 = filter_sentence4  + ' ' + words.lower()\n",
        "    \n",
        "    if filter_sentence3 != '':\n",
        "      df_t.loc[index, 'total'] = filter_sentence3\n",
        "    else:\n",
        "      df_t.loc[index, 'total'] = filter_sentence4"
      ],
      "execution_count": null,
      "outputs": []
    },
    {
      "cell_type": "markdown",
      "metadata": {
        "id": "KVOnGSROeF0e"
      },
      "source": [
        "3. Hasil Preprocessing Data Training"
      ]
    },
    {
      "cell_type": "code",
      "metadata": {
        "id": "BYidiEb1YWxL",
        "outputId": "ab554a85-9437-4df2-bbff-91c23077cee5",
        "colab": {
          "base_uri": "https://localhost:8080/",
          "height": 393
        }
      },
      "source": [
        "df.head(10)"
      ],
      "execution_count": null,
      "outputs": [
        {
          "output_type": "execute_result",
          "data": {
            "text/html": [
              "<div>\n",
              "<style scoped>\n",
              "    .dataframe tbody tr th:only-of-type {\n",
              "        vertical-align: middle;\n",
              "    }\n",
              "\n",
              "    .dataframe tbody tr th {\n",
              "        vertical-align: top;\n",
              "    }\n",
              "\n",
              "    .dataframe thead th {\n",
              "        text-align: right;\n",
              "    }\n",
              "</style>\n",
              "<table border=\"1\" class=\"dataframe\">\n",
              "  <thead>\n",
              "    <tr style=\"text-align: right;\">\n",
              "      <th></th>\n",
              "      <th>ID</th>\n",
              "      <th>label</th>\n",
              "      <th>judul</th>\n",
              "      <th>narasi</th>\n",
              "      <th>total</th>\n",
              "    </tr>\n",
              "  </thead>\n",
              "  <tbody>\n",
              "    <tr>\n",
              "      <th>0</th>\n",
              "      <td>71</td>\n",
              "      <td>1</td>\n",
              "      <td>Pemakaian Masker Menyebabkan Penyakit Legionna...</td>\n",
              "      <td>A caller to a radio talk show recently shared ...</td>\n",
              "      <td>pemakaian masker menyebabkan penyakit legionn...</td>\n",
              "    </tr>\n",
              "    <tr>\n",
              "      <th>1</th>\n",
              "      <td>461</td>\n",
              "      <td>1</td>\n",
              "      <td>Instruksi Gubernur Jateng tentang penilangan  ...</td>\n",
              "      <td>Yth.Seluruh Anggota Grup Sesuai Instruksi Gube...</td>\n",
              "      <td>instruksi gubernur jateng penilangan bermaske...</td>\n",
              "    </tr>\n",
              "    <tr>\n",
              "      <th>2</th>\n",
              "      <td>495</td>\n",
              "      <td>1</td>\n",
              "      <td>Foto Jim Rohn: Jokowi adalah presiden terbaik ...</td>\n",
              "      <td>Jokowi adalah presiden terbaik dlm sejarah ban...</td>\n",
              "      <td>foto jim jokowi presiden terbaik sejarah bang...</td>\n",
              "    </tr>\n",
              "    <tr>\n",
              "      <th>3</th>\n",
              "      <td>550</td>\n",
              "      <td>1</td>\n",
              "      <td>ini bukan politik, tapi kenyataan Pak Jokowi b...</td>\n",
              "      <td>Maaf Mas2 dan Mbak2, ini bukan politik, tapi k...</td>\n",
              "      <td>politik kenyataan jokowi berhasil memulangkan...</td>\n",
              "    </tr>\n",
              "    <tr>\n",
              "      <th>4</th>\n",
              "      <td>681</td>\n",
              "      <td>1</td>\n",
              "      <td>Foto Kadrun kalo lihat foto ini panas dingin</td>\n",
              "      <td>Kadrun kalo lihat foto ini panas dingin . .</td>\n",
              "      <td>foto lihat foto panas dingin lihat foto panas...</td>\n",
              "    </tr>\n",
              "    <tr>\n",
              "      <th>5</th>\n",
              "      <td>736</td>\n",
              "      <td>1</td>\n",
              "      <td>event promo smartphone JNE 2020 spesial di bul...</td>\n",
              "      <td>selamat siang teman teman fb ku semuanya🤩,cuma...</td>\n",
              "      <td>event promo smartphone jne 2020 spesial juni ...</td>\n",
              "    </tr>\n",
              "    <tr>\n",
              "      <th>6</th>\n",
              "      <td>1161</td>\n",
              "      <td>1</td>\n",
              "      <td>MEREKA SUDAH MEMPERSIAPKAN DIRI DENGAN BAIK UN...</td>\n",
              "      <td>LIHATLAH MEREKA SUDAH MEMPERSIAPKAN DIRI DENGA...</td>\n",
              "      <td>menguasai negri lihatlah menguasai negri</td>\n",
              "    </tr>\n",
              "    <tr>\n",
              "      <th>7</th>\n",
              "      <td>1597</td>\n",
              "      <td>1</td>\n",
              "      <td>Foto Presiden Italia menangis karena tak cukup...</td>\n",
              "      <td>Italia punya fasilitas perawatan kesehatan ter...</td>\n",
              "      <td>foto presiden italia menangis lahan mengubur ...</td>\n",
              "    </tr>\n",
              "    <tr>\n",
              "      <th>8</th>\n",
              "      <td>2098</td>\n",
              "      <td>1</td>\n",
              "      <td>Kapolres Timor Tengah Utara , Nusa Tenggara Ti...</td>\n",
              "      <td>Polisi goblok. Bukanya cpet” d tolongin malah ...</td>\n",
              "      <td>kapolres timor utara nusa tenggara timur klar...</td>\n",
              "    </tr>\n",
              "    <tr>\n",
              "      <th>9</th>\n",
              "      <td>2226</td>\n",
              "      <td>1</td>\n",
              "      <td>Video Polisi china telah menganiaya wanita uig...</td>\n",
              "      <td>Polisi china telah menganiaya wanita uighur le...</td>\n",
              "      <td>video polisi china menganiaya wanita uighur l...</td>\n",
              "    </tr>\n",
              "  </tbody>\n",
              "</table>\n",
              "</div>"
            ],
            "text/plain": [
              "     ID  ...                                              total\n",
              "0    71  ...   pemakaian masker menyebabkan penyakit legionn...\n",
              "1   461  ...   instruksi gubernur jateng penilangan bermaske...\n",
              "2   495  ...   foto jim jokowi presiden terbaik sejarah bang...\n",
              "3   550  ...   politik kenyataan jokowi berhasil memulangkan...\n",
              "4   681  ...   foto lihat foto panas dingin lihat foto panas...\n",
              "5   736  ...   event promo smartphone jne 2020 spesial juni ...\n",
              "6  1161  ...           menguasai negri lihatlah menguasai negri\n",
              "7  1597  ...   foto presiden italia menangis lahan mengubur ...\n",
              "8  2098  ...   kapolres timor utara nusa tenggara timur klar...\n",
              "9  2226  ...   video polisi china menganiaya wanita uighur l...\n",
              "\n",
              "[10 rows x 5 columns]"
            ]
          },
          "metadata": {
            "tags": []
          },
          "execution_count": 63
        }
      ]
    },
    {
      "cell_type": "code",
      "metadata": {
        "id": "XCRV_lBuYWxT"
      },
      "source": [
        "#inisiasi x dan y\n",
        "x_train = df['total']\n",
        "y_train = df['label']"
      ],
      "execution_count": null,
      "outputs": []
    },
    {
      "cell_type": "markdown",
      "metadata": {
        "id": "L336jmTpeLma"
      },
      "source": [
        "4. Hasil Preprocessing Data Testing"
      ]
    },
    {
      "cell_type": "code",
      "metadata": {
        "id": "DK3xeTh9YWxd",
        "outputId": "8d2cb4a4-a905-4e1a-a963-bd14c83da857",
        "colab": {
          "base_uri": "https://localhost:8080/",
          "height": 204
        }
      },
      "source": [
        "df_t.head()"
      ],
      "execution_count": null,
      "outputs": [
        {
          "output_type": "execute_result",
          "data": {
            "text/html": [
              "<div>\n",
              "<style scoped>\n",
              "    .dataframe tbody tr th:only-of-type {\n",
              "        vertical-align: middle;\n",
              "    }\n",
              "\n",
              "    .dataframe tbody tr th {\n",
              "        vertical-align: top;\n",
              "    }\n",
              "\n",
              "    .dataframe thead th {\n",
              "        text-align: right;\n",
              "    }\n",
              "</style>\n",
              "<table border=\"1\" class=\"dataframe\">\n",
              "  <thead>\n",
              "    <tr style=\"text-align: right;\">\n",
              "      <th></th>\n",
              "      <th>ID</th>\n",
              "      <th>judul</th>\n",
              "      <th>narasi</th>\n",
              "      <th>label</th>\n",
              "      <th>total</th>\n",
              "    </tr>\n",
              "  </thead>\n",
              "  <tbody>\n",
              "    <tr>\n",
              "      <th>0</th>\n",
              "      <td>238057</td>\n",
              "      <td>Narasi Tito Karnavian Berideologi Komunis Kare...</td>\n",
              "      <td>TITO KARNIVAN ITU BERIDIOLOGI KOMUNIS DIA BISA...</td>\n",
              "      <td>1</td>\n",
              "      <td>narasi tito berideologi komunis disekolahkan ...</td>\n",
              "    </tr>\n",
              "    <tr>\n",
              "      <th>1</th>\n",
              "      <td>238158</td>\n",
              "      <td>Anies: Seberat beratnya Pekerjaan Akan terasa ...</td>\n",
              "      <td>Seberat beratnya Pekerjaan Akan terasa ringan ...</td>\n",
              "      <td>1</td>\n",
              "      <td>anies seberat beratnya pekerjaan ringan kerja...</td>\n",
              "    </tr>\n",
              "    <tr>\n",
              "      <th>2</th>\n",
              "      <td>238865</td>\n",
              "      <td>Hindu di india Melemparkan Patung Buatan Merek...</td>\n",
              "      <td>Hindu di india melemparkan patung buatan merek...</td>\n",
              "      <td>1</td>\n",
              "      <td>hindu india melemparkan patung buatan laut me...</td>\n",
              "    </tr>\n",
              "    <tr>\n",
              "      <th>3</th>\n",
              "      <td>248298</td>\n",
              "      <td>RSCM Praktekkan Penyedotan Plug  Vena/Saluran ...</td>\n",
              "      <td>Mulai Hari ini di RSCM mulai diPraktekkan Peny...</td>\n",
              "      <td>1</td>\n",
              "      <td>rscm praktekkan penyedotan plug darah rscm di...</td>\n",
              "    </tr>\n",
              "    <tr>\n",
              "      <th>4</th>\n",
              "      <td>255176</td>\n",
              "      <td>Permohonan Kelonggaran Angsuran ke OJK</td>\n",
              "      <td>Untuk sekedar info, Bagi anda yg punya ansuran...</td>\n",
              "      <td>1</td>\n",
              "      <td>permohonan kelonggaran angsuran ojk info kelo...</td>\n",
              "    </tr>\n",
              "  </tbody>\n",
              "</table>\n",
              "</div>"
            ],
            "text/plain": [
              "       ID  ...                                              total\n",
              "0  238057  ...   narasi tito berideologi komunis disekolahkan ...\n",
              "1  238158  ...   anies seberat beratnya pekerjaan ringan kerja...\n",
              "2  238865  ...   hindu india melemparkan patung buatan laut me...\n",
              "3  248298  ...   rscm praktekkan penyedotan plug darah rscm di...\n",
              "4  255176  ...   permohonan kelonggaran angsuran ojk info kelo...\n",
              "\n",
              "[5 rows x 5 columns]"
            ]
          },
          "metadata": {
            "tags": []
          },
          "execution_count": 65
        }
      ]
    },
    {
      "cell_type": "code",
      "metadata": {
        "id": "Vga5FAMpYWxp"
      },
      "source": [
        "x_test = df_t['total']\n",
        "y_test = df_t['label']"
      ],
      "execution_count": null,
      "outputs": []
    },
    {
      "cell_type": "code",
      "metadata": {
        "id": "U4jQKneuRsL9",
        "outputId": "23ba49da-cd57-4ddf-b999-b8532148d98a",
        "colab": {
          "base_uri": "https://localhost:8080/",
          "height": 204
        }
      },
      "source": [
        "df.head()"
      ],
      "execution_count": null,
      "outputs": [
        {
          "output_type": "execute_result",
          "data": {
            "text/html": [
              "<div>\n",
              "<style scoped>\n",
              "    .dataframe tbody tr th:only-of-type {\n",
              "        vertical-align: middle;\n",
              "    }\n",
              "\n",
              "    .dataframe tbody tr th {\n",
              "        vertical-align: top;\n",
              "    }\n",
              "\n",
              "    .dataframe thead th {\n",
              "        text-align: right;\n",
              "    }\n",
              "</style>\n",
              "<table border=\"1\" class=\"dataframe\">\n",
              "  <thead>\n",
              "    <tr style=\"text-align: right;\">\n",
              "      <th></th>\n",
              "      <th>ID</th>\n",
              "      <th>label</th>\n",
              "      <th>judul</th>\n",
              "      <th>narasi</th>\n",
              "      <th>total</th>\n",
              "    </tr>\n",
              "  </thead>\n",
              "  <tbody>\n",
              "    <tr>\n",
              "      <th>0</th>\n",
              "      <td>71</td>\n",
              "      <td>1</td>\n",
              "      <td>Pemakaian Masker Menyebabkan Penyakit Legionna...</td>\n",
              "      <td>A caller to a radio talk show recently shared ...</td>\n",
              "      <td>pemakaian masker menyebabkan penyakit legionn...</td>\n",
              "    </tr>\n",
              "    <tr>\n",
              "      <th>1</th>\n",
              "      <td>461</td>\n",
              "      <td>1</td>\n",
              "      <td>Instruksi Gubernur Jateng tentang penilangan  ...</td>\n",
              "      <td>Yth.Seluruh Anggota Grup Sesuai Instruksi Gube...</td>\n",
              "      <td>instruksi gubernur jateng penilangan yg berma...</td>\n",
              "    </tr>\n",
              "    <tr>\n",
              "      <th>2</th>\n",
              "      <td>495</td>\n",
              "      <td>1</td>\n",
              "      <td>Foto Jim Rohn: Jokowi adalah presiden terbaik ...</td>\n",
              "      <td>Jokowi adalah presiden terbaik dlm sejarah ban...</td>\n",
              "      <td>foto jim jokowi presiden terbaik dlm sejarah ...</td>\n",
              "    </tr>\n",
              "    <tr>\n",
              "      <th>3</th>\n",
              "      <td>550</td>\n",
              "      <td>1</td>\n",
              "      <td>ini bukan politik, tapi kenyataan Pak Jokowi b...</td>\n",
              "      <td>Maaf Mas2 dan Mbak2, ini bukan politik, tapi k...</td>\n",
              "      <td>politik kenyataan jokowi berhasil memulangkan...</td>\n",
              "    </tr>\n",
              "    <tr>\n",
              "      <th>4</th>\n",
              "      <td>681</td>\n",
              "      <td>1</td>\n",
              "      <td>Foto Kadrun kalo lihat foto ini panas dingin</td>\n",
              "      <td>Kadrun kalo lihat foto ini panas dingin . .</td>\n",
              "      <td>foto kalo lihat foto panas dingin kalo lihat ...</td>\n",
              "    </tr>\n",
              "  </tbody>\n",
              "</table>\n",
              "</div>"
            ],
            "text/plain": [
              "    ID  ...                                              total\n",
              "0   71  ...   pemakaian masker menyebabkan penyakit legionn...\n",
              "1  461  ...   instruksi gubernur jateng penilangan yg berma...\n",
              "2  495  ...   foto jim jokowi presiden terbaik dlm sejarah ...\n",
              "3  550  ...   politik kenyataan jokowi berhasil memulangkan...\n",
              "4  681  ...   foto kalo lihat foto panas dingin kalo lihat ...\n",
              "\n",
              "[5 rows x 5 columns]"
            ]
          },
          "metadata": {
            "tags": []
          },
          "execution_count": 44
        }
      ]
    },
    {
      "cell_type": "code",
      "metadata": {
        "id": "Nwh7HfWlW1vH",
        "outputId": "8645c0e8-5ca2-4508-b98c-7f2ecd75d442",
        "colab": {
          "base_uri": "https://localhost:8080/",
          "height": 17
        }
      },
      "source": [
        "\n",
        "from google.colab import files\n",
        "df.to_excel('datatrainbr.xlsx') \n",
        "files.download('datatrainbr.xlsx')"
      ],
      "execution_count": null,
      "outputs": [
        {
          "output_type": "display_data",
          "data": {
            "application/javascript": [
              "\n",
              "    async function download(id, filename, size) {\n",
              "      if (!google.colab.kernel.accessAllowed) {\n",
              "        return;\n",
              "      }\n",
              "      const div = document.createElement('div');\n",
              "      const label = document.createElement('label');\n",
              "      label.textContent = `Downloading \"${filename}\": `;\n",
              "      div.appendChild(label);\n",
              "      const progress = document.createElement('progress');\n",
              "      progress.max = size;\n",
              "      div.appendChild(progress);\n",
              "      document.body.appendChild(div);\n",
              "\n",
              "      const buffers = [];\n",
              "      let downloaded = 0;\n",
              "\n",
              "      const channel = await google.colab.kernel.comms.open(id);\n",
              "      // Send a message to notify the kernel that we're ready.\n",
              "      channel.send({})\n",
              "\n",
              "      for await (const message of channel.messages) {\n",
              "        // Send a message to notify the kernel that we're ready.\n",
              "        channel.send({})\n",
              "        if (message.buffers) {\n",
              "          for (const buffer of message.buffers) {\n",
              "            buffers.push(buffer);\n",
              "            downloaded += buffer.byteLength;\n",
              "            progress.value = downloaded;\n",
              "          }\n",
              "        }\n",
              "      }\n",
              "      const blob = new Blob(buffers, {type: 'application/binary'});\n",
              "      const a = document.createElement('a');\n",
              "      a.href = window.URL.createObjectURL(blob);\n",
              "      a.download = filename;\n",
              "      div.appendChild(a);\n",
              "      a.click();\n",
              "      div.remove();\n",
              "    }\n",
              "  "
            ],
            "text/plain": [
              "<IPython.core.display.Javascript object>"
            ]
          },
          "metadata": {
            "tags": []
          }
        },
        {
          "output_type": "display_data",
          "data": {
            "application/javascript": [
              "download(\"download_66ece1e4-39ac-425c-aa0a-9e6f8fb39825\", \"datatrainbr.xlsx\", 786497)"
            ],
            "text/plain": [
              "<IPython.core.display.Javascript object>"
            ]
          },
          "metadata": {
            "tags": []
          }
        }
      ]
    },
    {
      "cell_type": "code",
      "metadata": {
        "id": "H7NE0rQRYRTe",
        "outputId": "3f1a7b4b-20d0-412c-8c52-3d8f86982713",
        "colab": {
          "base_uri": "https://localhost:8080/",
          "height": 17
        }
      },
      "source": [
        "df_t.to_excel('datatestbr.xlsx') \n",
        "files.download('datatestbr.xlsx')"
      ],
      "execution_count": null,
      "outputs": [
        {
          "output_type": "display_data",
          "data": {
            "application/javascript": [
              "\n",
              "    async function download(id, filename, size) {\n",
              "      if (!google.colab.kernel.accessAllowed) {\n",
              "        return;\n",
              "      }\n",
              "      const div = document.createElement('div');\n",
              "      const label = document.createElement('label');\n",
              "      label.textContent = `Downloading \"${filename}\": `;\n",
              "      div.appendChild(label);\n",
              "      const progress = document.createElement('progress');\n",
              "      progress.max = size;\n",
              "      div.appendChild(progress);\n",
              "      document.body.appendChild(div);\n",
              "\n",
              "      const buffers = [];\n",
              "      let downloaded = 0;\n",
              "\n",
              "      const channel = await google.colab.kernel.comms.open(id);\n",
              "      // Send a message to notify the kernel that we're ready.\n",
              "      channel.send({})\n",
              "\n",
              "      for await (const message of channel.messages) {\n",
              "        // Send a message to notify the kernel that we're ready.\n",
              "        channel.send({})\n",
              "        if (message.buffers) {\n",
              "          for (const buffer of message.buffers) {\n",
              "            buffers.push(buffer);\n",
              "            downloaded += buffer.byteLength;\n",
              "            progress.value = downloaded;\n",
              "          }\n",
              "        }\n",
              "      }\n",
              "      const blob = new Blob(buffers, {type: 'application/binary'});\n",
              "      const a = document.createElement('a');\n",
              "      a.href = window.URL.createObjectURL(blob);\n",
              "      a.download = filename;\n",
              "      div.appendChild(a);\n",
              "      a.click();\n",
              "      div.remove();\n",
              "    }\n",
              "  "
            ],
            "text/plain": [
              "<IPython.core.display.Javascript object>"
            ]
          },
          "metadata": {
            "tags": []
          }
        },
        {
          "output_type": "display_data",
          "data": {
            "application/javascript": [
              "download(\"download_a077c681-a3bf-4f9a-98ea-a25f49a14192\", \"datatestbr.xlsx\", 94363)"
            ],
            "text/plain": [
              "<IPython.core.display.Javascript object>"
            ]
          },
          "metadata": {
            "tags": []
          }
        }
      ]
    }
  ]
}